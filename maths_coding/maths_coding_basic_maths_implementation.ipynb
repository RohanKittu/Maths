{
 "cells": [
  {
   "cell_type": "markdown",
   "metadata": {},
   "source": [
    "## Program for checking the divisibality of the number"
   ]
  },
  {
   "cell_type": "code",
   "execution_count": null,
   "metadata": {},
   "outputs": [],
   "source": [
    "#function for checking whether a number is divisible by 2\n",
    "#condition the last number of the digit should be divisible by 2\n",
    "def check_div_2(num):\n",
    "    #handling non string value\n",
    "    if(type(num)!=str):\n",
    "        count=0\n",
    "        no=num\n",
    "        while(no > 0):\n",
    "            no=no//10\n",
    "            count=count+1\n",
    "        if(count > 1):\n",
    "            if(((num % 10)%2)!=0):\n",
    "                return False\n",
    "            else:\n",
    "                return True\n",
    "        else:\n",
    "            if((num%2)==0):\n",
    "                return True\n",
    "            else:\n",
    "                return False\n",
    "    #handling string value\n",
    "    else:\n",
    "        num=int(num)\n",
    "        count=0\n",
    "        no=num\n",
    "        while(no > 0):\n",
    "            no=no//10\n",
    "            count=count+1\n",
    "        if(count > 1):\n",
    "            if(((num % 10)%2)!=0):\n",
    "                return False\n",
    "            else:\n",
    "                return True\n",
    "        else:\n",
    "            if((num%2)==0):\n",
    "                return True\n",
    "            else:\n",
    "                return False\n",
    "check_div_2('334356')"
   ]
  },
  {
   "cell_type": "code",
   "execution_count": 36,
   "metadata": {},
   "outputs": [
    {
     "data": {
      "text/plain": [
       "False"
      ]
     },
     "execution_count": 36,
     "metadata": {},
     "output_type": "execute_result"
    }
   ],
   "source": [
    "#function for checking whether a number is divisible by 3 or not by summing up all the number and checking the whether the sum is divisible by 3\n",
    "def check_div_3(num):\n",
    "    if(type(num)!=str):\n",
    "        count=0\n",
    "        no=num\n",
    "        while(no > 0):\n",
    "            no=no//10\n",
    "            count+=1\n",
    "        if(count==1):\n",
    "            if((num%3)==0):\n",
    "                return True\n",
    "            else:\n",
    "                return False\n",
    "        else:\n",
    "            sum=0\n",
    "            for i in str(num):\n",
    "                sum+=int(i)\n",
    "            if((sum%3==0)==True):\n",
    "                return True\n",
    "            else:\n",
    "                return False\n",
    "    else:\n",
    "        num=int(num)\n",
    "        count=0\n",
    "        no=num\n",
    "        while(no > 0):\n",
    "            no=no//10\n",
    "            count+=1\n",
    "        if(count==1):\n",
    "            if((num%3)==0):\n",
    "                return True\n",
    "            else:\n",
    "                return False\n",
    "        else:\n",
    "            sum=0\n",
    "            for i in str(num):\n",
    "                sum+=int(i)\n",
    "            if((sum%3==0)==True):\n",
    "                return True\n",
    "            else:\n",
    "                return False\n",
    "check_div_3(12356)"
   ]
  },
  {
   "cell_type": "code",
   "execution_count": 38,
   "metadata": {},
   "outputs": [
    {
     "data": {
      "text/plain": [
       "False"
      ]
     },
     "execution_count": 38,
     "metadata": {},
     "output_type": "execute_result"
    }
   ],
   "source": [
    "#checking whether a number is divisible by 4 by considering only last 2 digits ,whether they are divisible by 4 or not\n",
    "def check_div_4(num):\n",
    "    if(type(num)!=str):\n",
    "        count=0\n",
    "        no=num\n",
    "        while(no < 0):\n",
    "            count+=1\n",
    "            no=no//10\n",
    "        if(count==1):\n",
    "            if((num%4)==0):\n",
    "                return True\n",
    "            else:\n",
    "                return False\n",
    "        else:\n",
    "            if((num%100)%4==True):\n",
    "                return True\n",
    "            else:\n",
    "                return False\n",
    "    else:\n",
    "        count=0\n",
    "        no=num\n",
    "        while(no < 0):\n",
    "            count+=1\n",
    "            no=no//10\n",
    "        if(count==1):\n",
    "            if((num%4)==0):\n",
    "                return True\n",
    "            else:\n",
    "                return False\n",
    "        else:\n",
    "            if((num%100)%4==True):\n",
    "                return True\n",
    "            else:\n",
    "                return False            \n",
    "check_div_4(454543543)"
   ]
  },
  {
   "cell_type": "code",
   "execution_count": 40,
   "metadata": {},
   "outputs": [
    {
     "data": {
      "text/plain": [
       "True"
      ]
     },
     "execution_count": 40,
     "metadata": {},
     "output_type": "execute_result"
    }
   ],
   "source": [
    "#check whether a number is divisible by 5\n",
    "#we are checking last digit of a number ,it should be either 0 or 5\n",
    "def check_div_5(num):\n",
    "    num=int(num)\n",
    "    count=0\n",
    "    no=num\n",
    "    while(no < 0):\n",
    "        count+=1\n",
    "        no=no//10\n",
    "    if(count==1):\n",
    "        if(num%5==0):\n",
    "            return True\n",
    "        else:\n",
    "            return False\n",
    "    else:\n",
    "        if((num%10)==0 or (num%10)==5):\n",
    "            return True\n",
    "        else:\n",
    "            return False\n",
    "check_div_5(90)"
   ]
  },
  {
   "cell_type": "code",
   "execution_count": 44,
   "metadata": {},
   "outputs": [
    {
     "data": {
      "text/plain": [
       "False"
      ]
     },
     "execution_count": 44,
     "metadata": {},
     "output_type": "execute_result"
    }
   ],
   "source": [
    "#checking whether a number is divisible by 6\n",
    "#if a number is divisible both 2 and 3 then it also divisible by 6\n",
    "def check_div_6(num):\n",
    "    num=int(num)\n",
    "    if((check_div_2(num)==True) and (check_div_3(num)==True)):\n",
    "        return True\n",
    "    else:\n",
    "        return False\n",
    "check_div_6('56')"
   ]
  },
  {
   "cell_type": "code",
   "execution_count": 48,
   "metadata": {},
   "outputs": [
    {
     "data": {
      "text/plain": [
       "True"
      ]
     },
     "execution_count": 48,
     "metadata": {},
     "output_type": "execute_result"
    }
   ],
   "source": [
    "#checking the whether a number is divisible by 7\n",
    "#formula is ((last digit*5)+rest of the number)\n",
    "def check_div_7(num):\n",
    "    num=int(num)\n",
    "    count = 0\n",
    "    no=num\n",
    "    while(no < 0):\n",
    "        no=no//10\n",
    "        count+=1\n",
    "    if(count==1):\n",
    "        if((num%7==0)==True):\n",
    "            return True\n",
    "        else:\n",
    "            return False\n",
    "    else:\n",
    "        #extracting the last number\n",
    "        no=(num%10)*5\n",
    "        #extracting the rest of the numbers\n",
    "        num=str(num)\n",
    "        l=list(num)\n",
    "        l.remove(l[-1])\n",
    "        rest=int(\"\".join(l))\n",
    "        #checking whether the sum is divisible by 7\n",
    "        if((no+rest)%7==0):\n",
    "            return True\n",
    "        else:\n",
    "            return False\n",
    "#calling the function\n",
    "check_div_7(1)        "
   ]
  },
  {
   "cell_type": "code",
   "execution_count": 55,
   "metadata": {},
   "outputs": [
    {
     "data": {
      "text/plain": [
       "False"
      ]
     },
     "execution_count": 55,
     "metadata": {},
     "output_type": "execute_result"
    }
   ],
   "source": [
    "#checking the whether a number is divisible by 8\n",
    "#formula is if last three digits are divisible by 8 ,then the number is divisible by 8\n",
    "def check_div_8(num):\n",
    "    num=int(num)\n",
    "    count=0\n",
    "    no=num\n",
    "    while(no<0):\n",
    "        no=no//10\n",
    "        count+=1\n",
    "    if(count<=3):\n",
    "        if((num%8==0)==True):\n",
    "            return True\n",
    "        else:\n",
    "            return False\n",
    "    else:\n",
    "        if(((num%1000)%8==True)):\n",
    "           return True\n",
    "        else:\n",
    "           return False\n",
    "check_div_8(\"3455678\")"
   ]
  },
  {
   "cell_type": "code",
   "execution_count": 63,
   "metadata": {},
   "outputs": [
    {
     "data": {
      "text/plain": [
       "True"
      ]
     },
     "execution_count": 63,
     "metadata": {},
     "output_type": "execute_result"
    }
   ],
   "source": [
    "#checking whether a number is divisible by 9\n",
    "#formula :- The sum of the digits is divisible by 9\n",
    "def check_div_9(num):\n",
    "    if(type(num)==int):\n",
    "        num=str(num)\n",
    "        lis=list(num)\n",
    "        sum=0\n",
    "        for i in lis:\n",
    "            sum+=int(i)\n",
    "        if(((sum%9)==0)==True):\n",
    "            return True \n",
    "        else:\n",
    "            return False\n",
    "    else:\n",
    "        lis=list(num)\n",
    "        sum=0\n",
    "        for i in lis:\n",
    "            sum+=int(i)\n",
    "        if(((sum%9)==0)==True):\n",
    "            return True \n",
    "        else:\n",
    "            False\n",
    "check_div_9(18)"
   ]
  },
  {
   "cell_type": "code",
   "execution_count": 64,
   "metadata": {},
   "outputs": [
    {
     "data": {
      "text/plain": [
       "True"
      ]
     },
     "execution_count": 64,
     "metadata": {},
     "output_type": "execute_result"
    }
   ],
   "source": [
    "#checking whether a number is divisible by 10\n",
    "#formula :- If the last digit is 0 ,then the number is divisible by 10\n",
    "def check_div_10(num):\n",
    "    num=int(num)\n",
    "    if(((num%10)==0)==True):\n",
    "        return True\n",
    "    else:\n",
    "        return False\n",
    "check_div_10(20)"
   ]
  },
  {
   "cell_type": "code",
   "execution_count": 65,
   "metadata": {},
   "outputs": [
    {
     "data": {
      "text/plain": [
       "False"
      ]
     },
     "execution_count": 65,
     "metadata": {},
     "output_type": "execute_result"
    }
   ],
   "source": [
    "'''\n",
    "The following functions check the divisibility of a number\n",
    "No of parametes :- 2\n",
    "Function parameter1 :- Number for which you want to check\n",
    "Function parameter2 :- divisior\n",
    "return type :- (True/False)\n",
    "'''\n",
    "def check_divisibility_of_number(num,by):\n",
    "    by=int(by)\n",
    "    if(by==2):\n",
    "        return check_div_2(num)\n",
    "    elif(by==3):\n",
    "        return check_div_3(num)\n",
    "    elif(by==4):\n",
    "        return check_div_4(num)\n",
    "    elif(by==5):\n",
    "        return check_div_5(num)\n",
    "    elif(by==6):\n",
    "        return check_div_6(num)\n",
    "    elif(by==7):\n",
    "        return check_div_7(num)\n",
    "    elif(by==8):\n",
    "        return check_div_8(num)\n",
    "    elif(by==9):\n",
    "        return check_div_9(num)\n",
    "    elif(by==10):\n",
    "        return check_div_10(num)\n",
    "    else:\n",
    "        print(\"Sorry you can check divisibility of a number from 2 to 10 only\")\n",
    "check_divisibility_of_number(67,6)"
   ]
  },
  {
   "cell_type": "code",
   "execution_count": 76,
   "metadata": {},
   "outputs": [
    {
     "data": {
      "text/plain": [
       "[2, 4, 6, 8, 10, 12, 14, 16, 18, 20]"
      ]
     },
     "execution_count": 76,
     "metadata": {},
     "output_type": "execute_result"
    }
   ],
   "source": [
    "#Tables\n",
    "#The below function shows the result of the tables\n",
    "def math_tables(table_number,n,ret=False):\n",
    "    if(ret==False):\n",
    "        for i in range(1,n+1):\n",
    "            print(table_number,\"*\",i,\"=\",table_number*i)\n",
    "    else:\n",
    "        lis=[]\n",
    "        for i in range(1,n+1):\n",
    "            lis.append(table_number*i)\n",
    "        return lis\n",
    "            \n",
    "math_tables(2,10,ret=True)"
   ]
  },
  {
   "cell_type": "markdown",
   "metadata": {},
   "source": [
    "# Factors of a number"
   ]
  },
  {
   "cell_type": "code",
   "execution_count": 84,
   "metadata": {},
   "outputs": [
    {
     "name": "stdout",
     "output_type": "stream",
     "text": [
      "Sorry you can check divisibility of a number from 2 to 10 only\n"
     ]
    },
    {
     "ename": "ValueError",
     "evalue": "invalid literal for int() with base 10: ''",
     "output_type": "error",
     "traceback": [
      "\u001b[0;31m---------------------------------------------------------------------------\u001b[0m",
      "\u001b[0;31mValueError\u001b[0m                                Traceback (most recent call last)",
      "\u001b[0;32m<ipython-input-84-5ddd14ddd107>\u001b[0m in \u001b[0;36m<module>\u001b[0;34m\u001b[0m\n\u001b[1;32m      5\u001b[0m             \u001b[0mlis\u001b[0m\u001b[0;34m.\u001b[0m\u001b[0mappend\u001b[0m\u001b[0;34m(\u001b[0m\u001b[0mi\u001b[0m\u001b[0;34m)\u001b[0m\u001b[0;34m\u001b[0m\u001b[0;34m\u001b[0m\u001b[0m\n\u001b[1;32m      6\u001b[0m     \u001b[0;32mreturn\u001b[0m \u001b[0mlis\u001b[0m\u001b[0;34m\u001b[0m\u001b[0;34m\u001b[0m\u001b[0m\n\u001b[0;32m----> 7\u001b[0;31m \u001b[0mfactors_of_number\u001b[0m\u001b[0;34m(\u001b[0m\u001b[0;36m3\u001b[0m\u001b[0;34m)\u001b[0m\u001b[0;34m\u001b[0m\u001b[0;34m\u001b[0m\u001b[0m\n\u001b[0m",
      "\u001b[0;32m<ipython-input-84-5ddd14ddd107>\u001b[0m in \u001b[0;36mfactors_of_number\u001b[0;34m(number)\u001b[0m\n\u001b[1;32m      2\u001b[0m     \u001b[0mlis\u001b[0m\u001b[0;34m=\u001b[0m\u001b[0;34m[\u001b[0m\u001b[0;34m]\u001b[0m\u001b[0;34m\u001b[0m\u001b[0;34m\u001b[0m\u001b[0m\n\u001b[1;32m      3\u001b[0m     \u001b[0;32mfor\u001b[0m \u001b[0mi\u001b[0m \u001b[0;32min\u001b[0m \u001b[0mrange\u001b[0m\u001b[0;34m(\u001b[0m\u001b[0;36m0\u001b[0m\u001b[0;34m,\u001b[0m\u001b[0;36m10\u001b[0m\u001b[0;34m)\u001b[0m\u001b[0;34m:\u001b[0m\u001b[0;34m\u001b[0m\u001b[0;34m\u001b[0m\u001b[0m\n\u001b[0;32m----> 4\u001b[0;31m         \u001b[0;32mif\u001b[0m\u001b[0;34m(\u001b[0m\u001b[0mcheck_divisibility_of_number\u001b[0m\u001b[0;34m(\u001b[0m\u001b[0mnumber\u001b[0m\u001b[0;34m,\u001b[0m\u001b[0mi\u001b[0m\u001b[0;34m+\u001b[0m\u001b[0;36m1\u001b[0m\u001b[0;34m)\u001b[0m\u001b[0;34m==\u001b[0m\u001b[0;32mTrue\u001b[0m\u001b[0;34m)\u001b[0m\u001b[0;34m:\u001b[0m\u001b[0;34m\u001b[0m\u001b[0;34m\u001b[0m\u001b[0m\n\u001b[0m\u001b[1;32m      5\u001b[0m             \u001b[0mlis\u001b[0m\u001b[0;34m.\u001b[0m\u001b[0mappend\u001b[0m\u001b[0;34m(\u001b[0m\u001b[0mi\u001b[0m\u001b[0;34m)\u001b[0m\u001b[0;34m\u001b[0m\u001b[0;34m\u001b[0m\u001b[0m\n\u001b[1;32m      6\u001b[0m     \u001b[0;32mreturn\u001b[0m \u001b[0mlis\u001b[0m\u001b[0;34m\u001b[0m\u001b[0;34m\u001b[0m\u001b[0m\n",
      "\u001b[0;32m<ipython-input-65-32075725ee09>\u001b[0m in \u001b[0;36mcheck_divisibility_of_number\u001b[0;34m(num, by)\u001b[0m\n\u001b[1;32m     12\u001b[0m         \u001b[0;32mreturn\u001b[0m \u001b[0mcheck_div_6\u001b[0m\u001b[0;34m(\u001b[0m\u001b[0mnum\u001b[0m\u001b[0;34m)\u001b[0m\u001b[0;34m\u001b[0m\u001b[0;34m\u001b[0m\u001b[0m\n\u001b[1;32m     13\u001b[0m     \u001b[0;32melif\u001b[0m\u001b[0;34m(\u001b[0m\u001b[0mby\u001b[0m\u001b[0;34m==\u001b[0m\u001b[0;36m7\u001b[0m\u001b[0;34m)\u001b[0m\u001b[0;34m:\u001b[0m\u001b[0;34m\u001b[0m\u001b[0;34m\u001b[0m\u001b[0m\n\u001b[0;32m---> 14\u001b[0;31m         \u001b[0;32mreturn\u001b[0m \u001b[0mcheck_div_7\u001b[0m\u001b[0;34m(\u001b[0m\u001b[0mnum\u001b[0m\u001b[0;34m)\u001b[0m\u001b[0;34m\u001b[0m\u001b[0;34m\u001b[0m\u001b[0m\n\u001b[0m\u001b[1;32m     15\u001b[0m     \u001b[0;32melif\u001b[0m\u001b[0;34m(\u001b[0m\u001b[0mby\u001b[0m\u001b[0;34m==\u001b[0m\u001b[0;36m8\u001b[0m\u001b[0;34m)\u001b[0m\u001b[0;34m:\u001b[0m\u001b[0;34m\u001b[0m\u001b[0;34m\u001b[0m\u001b[0m\n\u001b[1;32m     16\u001b[0m         \u001b[0;32mreturn\u001b[0m \u001b[0mcheck_div_8\u001b[0m\u001b[0;34m(\u001b[0m\u001b[0mnum\u001b[0m\u001b[0;34m)\u001b[0m\u001b[0;34m\u001b[0m\u001b[0;34m\u001b[0m\u001b[0m\n",
      "\u001b[0;32m<ipython-input-48-4b8a2009b65a>\u001b[0m in \u001b[0;36mcheck_div_7\u001b[0;34m(num)\u001b[0m\n\u001b[1;32m     18\u001b[0m         \u001b[0ml\u001b[0m\u001b[0;34m=\u001b[0m\u001b[0mlist\u001b[0m\u001b[0;34m(\u001b[0m\u001b[0mnum\u001b[0m\u001b[0;34m)\u001b[0m\u001b[0;34m\u001b[0m\u001b[0;34m\u001b[0m\u001b[0m\n\u001b[1;32m     19\u001b[0m         \u001b[0ml\u001b[0m\u001b[0;34m.\u001b[0m\u001b[0mremove\u001b[0m\u001b[0;34m(\u001b[0m\u001b[0ml\u001b[0m\u001b[0;34m[\u001b[0m\u001b[0;34m-\u001b[0m\u001b[0;36m1\u001b[0m\u001b[0;34m]\u001b[0m\u001b[0;34m)\u001b[0m\u001b[0;34m\u001b[0m\u001b[0;34m\u001b[0m\u001b[0m\n\u001b[0;32m---> 20\u001b[0;31m         \u001b[0mrest\u001b[0m\u001b[0;34m=\u001b[0m\u001b[0mint\u001b[0m\u001b[0;34m(\u001b[0m\u001b[0;34m\"\"\u001b[0m\u001b[0;34m.\u001b[0m\u001b[0mjoin\u001b[0m\u001b[0;34m(\u001b[0m\u001b[0ml\u001b[0m\u001b[0;34m)\u001b[0m\u001b[0;34m)\u001b[0m\u001b[0;34m\u001b[0m\u001b[0;34m\u001b[0m\u001b[0m\n\u001b[0m\u001b[1;32m     21\u001b[0m         \u001b[0;32mif\u001b[0m\u001b[0;34m(\u001b[0m\u001b[0;34m(\u001b[0m\u001b[0mno\u001b[0m\u001b[0;34m+\u001b[0m\u001b[0mrest\u001b[0m\u001b[0;34m)\u001b[0m\u001b[0;34m%\u001b[0m\u001b[0;36m7\u001b[0m\u001b[0;34m==\u001b[0m\u001b[0;36m0\u001b[0m\u001b[0;34m)\u001b[0m\u001b[0;34m:\u001b[0m\u001b[0;34m\u001b[0m\u001b[0;34m\u001b[0m\u001b[0m\n\u001b[1;32m     22\u001b[0m             \u001b[0;32mreturn\u001b[0m \u001b[0;32mTrue\u001b[0m\u001b[0;34m\u001b[0m\u001b[0;34m\u001b[0m\u001b[0m\n",
      "\u001b[0;31mValueError\u001b[0m: invalid literal for int() with base 10: ''"
     ]
    }
   ],
   "source": [
    "def factors_of_number(number):\n",
    "    lis=[]\n",
    "    for i in range(0,10): \n",
    "        if(check_divisibility_of_number(number,i+1)==True):\n",
    "            lis.append(i)\n",
    "    return lis\n",
    "factors_of_number(3)"
   ]
  },
  {
   "cell_type": "markdown",
   "metadata": {},
   "source": [
    "# Multiples "
   ]
  },
  {
   "cell_type": "code",
   "execution_count": 83,
   "metadata": {},
   "outputs": [
    {
     "data": {
      "text/plain": [
       "[6, 12, 18, 24]"
      ]
     },
     "execution_count": 83,
     "metadata": {},
     "output_type": "execute_result"
    }
   ],
   "source": [
    "#The below function gives the first n multiples of a given number\n",
    "def first_n_multiples(n,number):\n",
    "    return  math_tables(number,n,ret=True)\n",
    "first_n_multiples(4,6)"
   ]
  },
  {
   "cell_type": "markdown",
   "metadata": {},
   "source": [
    "# Prime numbers"
   ]
  },
  {
   "cell_type": "code",
   "execution_count": null,
   "metadata": {},
   "outputs": [],
   "source": [
    "#checking whether a number is prime or composite number\n",
    "def checking_prime_number(number):\n",
    "    number=int(number)\n",
    "    if(number == 1):\n",
    "        print(\"The number is not a prime number\")\n",
    "        break\n",
    "    else:        "
   ]
  },
  {
   "cell_type": "code",
   "execution_count": 92,
   "metadata": {},
   "outputs": [
    {
     "data": {
      "text/plain": [
       "8"
      ]
     },
     "execution_count": 92,
     "metadata": {},
     "output_type": "execute_result"
    }
   ],
   "source": [
    "16 // 2"
   ]
  },
  {
   "cell_type": "code",
   "execution_count": 93,
   "metadata": {},
   "outputs": [
    {
     "data": {
      "text/plain": [
       "8.0"
      ]
     },
     "execution_count": 93,
     "metadata": {},
     "output_type": "execute_result"
    }
   ],
   "source": [
    "16/2"
   ]
  },
  {
   "cell_type": "code",
   "execution_count": null,
   "metadata": {},
   "outputs": [],
   "source": [
    "num = 13"
   ]
  }
 ],
 "metadata": {
  "kernelspec": {
   "display_name": "Python 3",
   "language": "python",
   "name": "python3"
  },
  "language_info": {
   "codemirror_mode": {
    "name": "ipython",
    "version": 3
   },
   "file_extension": ".py",
   "mimetype": "text/x-python",
   "name": "python",
   "nbconvert_exporter": "python",
   "pygments_lexer": "ipython3",
   "version": "3.7.6"
  }
 },
 "nbformat": 4,
 "nbformat_minor": 2
}
